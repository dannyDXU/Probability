{
 "cells": [
  {
   "cell_type": "markdown",
   "metadata": {},
   "source": [
    "# CS 237 Spring 2021, HW 03 \n",
    "\n",
    "#### Due date: Friday February 19th at Midnight (1 minute after 11:59pm on 2/11) via Gradescope (6 hour grace period)\n",
    "\n",
    "<strong> Late policy:</strong> You may submit the homework up to 24 hours late for a 10% penalty. Hence, the late deadline is Saturday 2/20 at Midnight (with the same 6 hour grace period). \n",
    "\n",
    "#### General Instructions\n",
    "\n",
    "Please complete this notebook by filling in solutions where indicated. Be sure to \"Restart and Run All\" from the Kernel menu before <a href=\"https://www.cs.bu.edu/fac/snyder/cs237/HWSubmissionInstructions.html\">submitting to Gradescope</a>.  \n",
    "\n",
    "There are 10 analytical problems and one extended programming problem (worth as much as two problems). An introductory video will be posted on YT for\n",
    "the analytical problems, and the programming problem will be covered Friday in lab. "
   ]
  },
  {
   "cell_type": "code",
   "execution_count": 88,
   "metadata": {
    "scrolled": false
   },
   "outputs": [
    {
     "data": {
      "image/png": "[encoded data removed]",
      "text/plain": [
       "<Figure size 576x432 with 1 Axes>"
      ]
     },
     "metadata": {
      "needs_background": "light"
     },
     "output_type": "display_data"
    },
    {
     "data": {
      "image/png": "[encoded data removed]",
      "text/plain": [
       "<Figure size 288x288 with 1 Axes>"
      ]
     },
     "metadata": {
      "needs_background": "light"
     },
     "output_type": "display_data"
    }
   ],
   "source": [
    "# Here are some imports which will be used in code that we write for CS 237\n",
    "\n",
    "# IMPORTANT:     DO NOT MAKE ANY OTHER IMPORTS WITHOUT DISCUSSING WITH PROFESSOR SNYDER\n",
    "\n",
    "# Imports used for the code in CS 237\n",
    "\n",
    "import numpy as np                # arrays and functions which operate on arrays, plus math functions\n",
    "import matplotlib.pyplot as plt   # normal plotting \n",
    "import math                       # You may use the math library if you really want, but\n",
    "                                  #    I recommend you use the numpy library for all mathematical operations.\n",
    "                                  #    Examples of use are in the notebook NumpyTutorial.ipynb on the class web site. \n",
    "\n",
    "# We will use these two functions, see note on introduction to lab problems\n",
    "\n",
    "from numpy.random import seed, random, randint, choice, shuffle\n",
    "\n",
    "from collections import Counter   # Essential for creating distributions from experiments\n",
    "  \n",
    "# This is an improved version of the function from HWs 01 and 02, which allows you to change the\n",
    "# size and also the labels on the X axis\n",
    "\n",
    "def show_distribution(outcomes, title='Probability Distribution', my_xlabels = [], my_figuresize = (8,6)):\n",
    "    plt.figure(figsize=my_figuresize)\n",
    "    num_trials = np.size(outcomes)\n",
    "    X = range( int(min(outcomes)), int(max(outcomes))+1 )    # \n",
    "    freqs = Counter(outcomes)\n",
    "    Y = [freqs[i]/num_trials for i in X]\n",
    "    plt.bar(X,Y,width=1.0,edgecolor='black')\n",
    "    if my_xlabels != []:\n",
    "        plt.xticks(X, my_xlabels)\n",
    "    elif (X[-1] - X[0] < 30):\n",
    "        ticks = range(X[0],X[-1]+1)\n",
    "        plt.xticks(ticks, ticks) \n",
    "    plt.xlabel(\"Outcomes\")\n",
    "    plt.ylabel(\"Probability\")\n",
    "    plt.title(title)\n",
    "    plt.show()\n",
    "    \n",
    "# Demonstration of the function\n",
    "dice_rolls = [ (randint(1,7) + randint(1,7)) for k in range(10**3) ]    # 1000 rolls of two dice\n",
    "\n",
    "show_distribution(dice_rolls, \"Probability Distribution for $10^3$ Dice Rolls\")    # notice the Latex in the title!\n",
    "\n",
    "show_distribution([ (x % 2) for x in dice_rolls ], \n",
    "                  \"Probability Distribution of Even and Odd Rolls\", \n",
    "                  my_xlabels=['Even', 'Odd'], my_figuresize=(4,4) )"
   ]
  },
  {
   "cell_type": "markdown",
   "metadata": {},
   "source": [
    "## Analytical Problems Introduction\n",
    "\n",
    "\n",
    "\n",
    "\n",
    "### Note on format of numeric answers.\n",
    "\n",
    " \n",
    "The overall principle in writing your answers is to *make the problem easy to grade*! No one benefits from your\n",
    "work if they can not understand where the answer is or what value is actually being represented. \n",
    "\n",
    "There is no need to use Python to do the calculations or formatting for the analytical problems, although\n",
    "sometimes it is helpful to check your calculations.  You can insert a Code cell temporarily somewhere\n",
    "and type in the expression and cut and paste your answer into the Markdown cell with your solution.  \n",
    "\n",
    "Here are the guidelines you should follow for the remainder of the course:\n",
    "\n",
    "- Quantitative answers must be given as small fractions, or in decimal. Small fractions are fine, as long as they are reduced (no common factors between the numerator and denominator) and not too complicated.  So 1/2, 3/8, and 5/32 are fine, but 1215/1944 (= 3/8) is not.  \n",
    "\n",
    "- Quantitative answers in decimal should be given to 4 significant digits, unless very small, in which case you should give in scientific notation to 4 significant digits (if possible). We're flexible, but don't give an answer 20 digits long!\n",
    "\n",
    "- Whenever possible, show your answer in Latex (we'll do more on this later) inside a box, by enclosing it in the syntax:\n",
    "\n",
    "             $\\boxed{  your answer   }$\n",
    "             \n",
    "for example, \n",
    "\n",
    "            Here is pi:  $\\boxed{3.1416}$.\n",
    "             \n",
    "Here is pi:  $\\boxed{3.1416}$. \n",
    "\n",
    "In the next text box are some useful `numpy` functions if you want to use them (not required as long as\n",
    "you follow the guidelines above). \n",
    "\n"
   ]
  },
  {
   "cell_type": "code",
   "execution_count": 89,
   "metadata": {},
   "outputs": [
    {
     "name": "stdout",
     "output_type": "stream",
     "text": [
      "Here is the number pi: 3.141592653589793\n",
      "Here is the number pi rounded to 4 digits: 3.1416\n",
      "\n",
      "3.1416\n",
      "0.0031\n",
      "0.0\n",
      "\n",
      "3.1416e-03\n",
      "3.1416e-06\n"
     ]
    }
   ],
   "source": [
    "# If you want to round something to 4 digits, you can use the \n",
    "# function np.around( floating-point number, number-of-significant-digits ):\n",
    "\n",
    "print('Here is the number pi:', np.pi)\n",
    "print('Here is the number pi rounded to 4 digits:', np.around(np.pi,4) )\n",
    "print()\n",
    "\n",
    "# using np.around\n",
    "print(np.around(np.pi,4))           # this is perfect\n",
    "print(np.around(np.pi/1000,4))      # this is ok\n",
    "print(np.around(np.pi/100000,4))    # NOT OK,  this returns an inaccurate and unhelpful 0.0\n",
    "print()\n",
    "\n",
    "# using np.format_float_scientific(x,precision=4)\n",
    "\n",
    "print( np.format_float_scientific(np.pi/1000,precision=4) )\n",
    "print( np.format_float_scientific(np.pi/1000000,precision=4) )"
   ]
  },
  {
   "cell_type": "markdown",
   "metadata": {},
   "source": [
    "### Problem 1\n",
    "\n",
    "Suppose you roll a single die $n$ times, $n>0$. Give the following probabilities in terms of $n$:\n",
    "\n",
    "(A)  The number 4 is observed all $n$ times;\n",
    "\n",
    "(B)  You *never* see the number 4 in any of the $n$ rolls; \n",
    "\n",
    "(C)  Each of the $n$ rolls shows an even number;\n",
    "\n",
    "(D)  The $n$ rolls alternate even and odd numbers, starting with even (for example:  2  5  4  1  6 5 ....); \n",
    "\n",
    "(E)  In the $n$ rolls, each of the numbers 1 and 6 are observed at least once. \n",
    "\n",
    "Hint for (E): Use the Inverse Method!"
   ]
  },
  {
   "cell_type": "markdown",
   "metadata": {},
   "source": [
    "**Solution:**\n",
    "\n",
    "    A.)\n",
    "        \n",
    "        (1/4)^n\n",
    "        \n",
    "    B.)\n",
    "    \n",
    "        (5/6)^n\n",
    "    \n",
    "    C.)\n",
    "    \n",
    "        There are 3 even numbers in the dice so:\n",
    "        \n",
    "        3/6 ~ 1/2\n",
    "        \n",
    "        (1/2)^n\n",
    "        \n",
    "    \n",
    "    D.)\n",
    "    \n",
    "        (1/2)^n\n",
    "    \n",
    "    E.)\n",
    "\n",
    "        1 - (2/3)^n\n",
    "\n"
   ]
  },
  {
   "cell_type": "markdown",
   "metadata": {},
   "source": [
    "### Problem 2 \n",
    "\n",
    "Suppose you roll two fair dice and count the number of dots showing. What is the probability of a sum of 5 if\n",
    "\n",
    "(A) the second roll is not 3?\n",
    "\n",
    "(B) they land on different numbers?\n",
    "\n"
   ]
  },
  {
   "cell_type": "markdown",
   "metadata": {},
   "source": [
    "<b>Solution:</b>\n",
    "\n",
    "    A.)  first roll can be {1,2,3,4,5,6}\n",
    "         second roll can be {1,2,4,5,6}\n",
    "         In total there are 6*5 = 30 possibilities.\n",
    "         And you can only get sum of 5 if \n",
    "         (1+4, 3+1, 4+1)\n",
    "         Thus,\n",
    "         3/30 ~ 1/10\n",
    "         \n",
    "    B.)  since they land on different numbers it can't be (1,1) (2,2) (3,3) (4,4) (5,5) (6,6)\n",
    "         therefore there are 36-6 = 30 possibilities.\n",
    "         And in those 30 possibilities, you can get sum of 5 thru (1,4) (2,3) (3,2) (4,1)\n",
    "         Thus,\n",
    "         4/30 ~ 2/15\n",
    "         \n"
   ]
  },
  {
   "cell_type": "markdown",
   "metadata": {},
   "source": [
    "### Problem 3\n",
    "\n",
    "Do problem 23 from the End Of Chapter Problems in Section 1.5."
   ]
  },
  {
   "cell_type": "markdown",
   "metadata": {},
   "source": [
    "**Solution:**\n",
    "\n",
    "    \n",
    "    a.) This is a conditional Prob\n",
    "        P(A|B) = P(A∩B)/P(B)\n",
    "               = (0.1 + 0.1)/ (0.1 + 0.1 + 0.1 + 0.05)\n",
    "               = (0.2)/(0.35)\n",
    "               = 0.5714\n",
    "               \n",
    "    b.) This is also conditional Prob\n",
    "        P(C|B) = P(C∩B)/P(B)\n",
    "               = (0.05 + 0.1) / (0.1 + 0.1 + 0.1 + 0.05)\n",
    "               = (0.15)/(0.35)\n",
    "               = 0.4286\n",
    "               \n",
    "    c.) Conditional Prob\n",
    "    \n",
    "        P(B|A∪C) = P(B∩(A∪C))/P(A∪C))\n",
    "                 = P(B∩A ∪ B∩C) / P(A∪C)\n",
    "                 = (0.1 + 0.1 + 0.05) / (0.1 + 0.1 + 0.1 + 0.2 + 0.05 + 0.15)\n",
    "                 = (0.25)/(0.7)\n",
    "                 = 0.3571\n",
    "    \n",
    "    d.) Conditional Prob\n",
    "    \n",
    "        P(B|A∩C) = P(B∩(A∩C)\n",
    "                 = P(B∩A ∩ B∩C) / P(A∩C)\n",
    "                 = P(B∩A∩C) / P(A∩C)\n",
    "                 = 0.1/ (0.1 + 0.1)\n",
    "                 = 0.1/0.2\n",
    "                 = 0.5\n",
    "    \n",
    "        \n",
    "\n"
   ]
  },
  {
   "cell_type": "markdown",
   "metadata": {},
   "source": [
    "### Problem 4\n",
    "\n",
    "Do problem 24 from the End Of Chapter Problems in Section 1.5."
   ]
  },
  {
   "cell_type": "markdown",
   "metadata": {},
   "source": [
    "**Solution:**\n",
    "\n",
    "       X is selected randomly from the interval [0, 10]\n",
    "       \n",
    "       a.) Find  P(2 ≤ X ≤ 5)\n",
    "           \n",
    "           Upper fence = 10\n",
    "           Lower fence = 0\n",
    "           \n",
    "           low number = 2\n",
    "           high number = 5\n",
    "           \n",
    "           Equation = (d-c)/(b-a)\n",
    "                    = (5-2)/(10-0)\n",
    "                    = 3/10\n",
    "                    = 0.3\n",
    "       \n",
    "       b.) Find  P(X ≤ 2 | X ≤ 5)\n",
    "       \n",
    "           Upper fence = 5\n",
    "           Lower fence = 0\n",
    "           \n",
    "           Equation = (c-a)/(d-a)\n",
    "                    = (2-0)/(5-0)\n",
    "                    = 2/5\n",
    "                    = 0.4\n",
    "       \n",
    "           \n",
    "       c.) Find P(3 ≤ X ≤ 8 | X ≥ 4 )\n",
    "       \n",
    "           We know that this is the same as (4 ≤ X ≤ 8)\n",
    "           \n",
    "           Upper fence = 10\n",
    "           Lower fence = 4\n",
    "           \n",
    "           low number = 4\n",
    "           high number = 8\n",
    "           \n",
    "           (8-4)/(10-4)\n",
    "           \n",
    "           = 4/6 ~ 2/3 ~ 0.667\n"
   ]
  },
  {
   "cell_type": "markdown",
   "metadata": {},
   "source": [
    "### Problem 5\n",
    "\n",
    "Do problem 25 from the End Of Chapter Problems in Section 1.5."
   ]
  },
  {
   "cell_type": "markdown",
   "metadata": {},
   "source": [
    "**Solution:**\n",
    "\n",
    "    600  students have taken the course,\n",
    "    120 students have gotten As,\n",
    "    200 students lived on campus,\n",
    "    80 students lived off campus and got As.\n",
    "    \n",
    "    Let A = the students who gotten an A\n",
    "       P(A) = 120/600 ~ 0.2\n",
    "    Let B = the students who lives on campus\n",
    "       p(B) = 200/600 ~ 0.33\n",
    "    Probility that the students live off campus and got an A is\n",
    "       80/600 = 0.13\n",
    "       \n",
    "    if P(A ∩ B) = P(A)P(B) holds then it's independent.\n",
    "    \n",
    "    \n",
    "    Condition #1: P(A)*P(B) = 0.066 ~ 0.07\n",
    "    \n",
    "     P(A ∩ B) = P(A) - (0.13)\n",
    "              = 0.2 - 0.13 \n",
    "              = 0.07\n",
    "              \n",
    "    Condition #2: P(A)*P(B) = 0.066 ~ 0.07\n",
    "                    \n",
    "                  P(A ∩ B) = 0.07\n",
    "                  \n",
    "                  P(A ∩ B) = P(A)*P(B)\n",
    "                  \n",
    "                  \n",
    "     Thus, the events are independent.\n",
    "                  \n",
    "    \n",
    "    \n",
    "    \n",
    "    \n",
    "    \n",
    "    \n",
    "       \n",
    "       \n",
    "       \n",
    "       \n"
   ]
  },
  {
   "cell_type": "markdown",
   "metadata": {},
   "source": [
    "### Problem 6\n",
    "\n",
    "Do problem 34 from the End Of Chapter Problems in Section 1.5."
   ]
  },
  {
   "cell_type": "markdown",
   "metadata": {},
   "source": [
    "**Solution:**\n",
    "\n",
    "    I toss a fair die twice, and obtain two numbers X and Y. Let A be the event that X=2, B be the event that X+Y=7, and C be the event that Y=3.\n",
    "    \n",
    "    \n",
    "    Fair Dice = 1/6\n",
    "    Rolled twice = 6*6 = 36 possibilities\n",
    "    \n",
    "    Let A be the event that X = 2   There's a 1/6 chance of X being 2\n",
    "    \n",
    "    Let B be the event that X + Y = 7  (1,6) (2,5) (3,4) (4,3) (5,2) (6,1) There are 6 ways thus, 6/36 ~ 1/6\n",
    "    \n",
    "    Let C be the event that Y = 3   There's a 1/6 chance of X being 3\n",
    "    \n",
    "    \n",
    "    \n",
    "    Are A and B independent?\n",
    "    \n",
    "    A and B are independent if P(A)*P(B) = P(A ∩ B)\n",
    "    \n",
    "    P(A) = 1/6\n",
    "    P(B) = 1/6\n",
    "    \n",
    "    P(A)*P(B) = (1/6) * (1/6) = 1/36\n",
    "    \n",
    "    P(A ∩ B) = (X = 2) and (X + Y = 7) , thus the only way is (2, 5)and that is 1/36 chance\n",
    "    \n",
    "    P(A ∩ B) = 1/36\n",
    "    \n",
    "    P(A)*P(B) = P(A ∩ B)\n",
    "    \n",
    "    \n",
    "    ANSWER: A and B are independent\n",
    "    \n",
    "    \n",
    "    Are A and C independent?\n",
    "    \n",
    "    A and C are independent if P(A)*P(C) = P(A ∩ C)\n",
    "    \n",
    "    P(A) = 1/6\n",
    "    P(C) = 1/6\n",
    "    \n",
    "    P(A)*P(C) = 1/36 \n",
    "    \n",
    "    P(A ∩ C) = (X = 2) and (Y = 3) this is a 1/36 chance because only one combination where first roll is 2 and second roll is 3\n",
    "    \n",
    "     P(A)*P(C) = 1/36 \n",
    "     P(A ∩ C) = 1/36\n",
    "     \n",
    "     ANSWER: A and C are independent.\n",
    "    \n",
    "    \n",
    "    Are B and C independent?\n",
    "    \n",
    "    P(B) = 1/6\n",
    "    P(C) = 1/6\n",
    "    \n",
    "    P(B ∩ C) = ( X + Y = 7 ) and ( Y = 3) There's only way and it's (4, 3) and that's 1/36 chance\n",
    "    \n",
    "    P(B ∩ C) = 1/36\n",
    "    P(B)*P(C) = 1/36\n",
    "    \n",
    "    P(B ∩ C) = P(B)*P(C)\n",
    "    \n",
    "    ANSWER: B and C are independent.\n",
    "    \n",
    "    \n",
    "    Are A, B, and C are independent?\n",
    "    \n",
    "        P(A) = 1/6\n",
    "        P(B) = 1/6\n",
    "        P(C) = 1/6\n",
    "        \n",
    "        P(A)*P(B)*P(C) = (1/6)*(1/6)*(1/6) = 1/216\n",
    "  \n",
    "        P(A ∩ B ∩ C) = (X = 2) and (X + Y = 7) and (Y = 3)\n",
    "        \n",
    "        This is impossible because all 2 + 3 does not equal 7, also P(A)*P(B)*P(C) doesn't equal P(A ∩ B ∩ C)\n",
    "        \n",
    "        Therefore,\n",
    "        \n",
    "        ANSWER: A, B, and C are not independent.\n",
    "        \n",
    "\n",
    "    "
   ]
  },
  {
   "cell_type": "markdown",
   "metadata": {},
   "source": [
    "### Problem 7\n",
    "\n",
    "Do problem 35 from the End Of Chapter Problems in Section 1.5."
   ]
  },
  {
   "cell_type": "markdown",
   "metadata": {},
   "source": [
    "**Solution:**\n",
    "    \n",
    "    Given that I won the game, find the probability that the first coin toss resulted in head?\n",
    "    \n",
    "    Since it's given we know that this is conditional probability.\n",
    "    \n",
    "    Thus,\n",
    "    \n",
    "    P(A|B) = P(A ∩ B) / P(B)  is the equation we use to find the probability.\n",
    "    \n",
    "    Let A = first coin toss resulted in head\n",
    "    Let B = I won the game\n",
    "    \n",
    "    \n",
    "    first let's try to find P(A ∩ B):\n",
    "    \n",
    "    P(A ∩ B) is the first coin toss resulted in head and I won the game\n",
    "    \n",
    "    W={HH,HTHH,HTHTHH,⋯} --- These are all the possibilities.\n",
    "    \n",
    "    p^2 + p^3q + p^4q^2 + ⋯      As we can see this is a infinite geometric sequence\n",
    "    \n",
    "    Thus, we can use the formula for the sum of an infinite geometric series\n",
    "    \n",
    "    a1/(1-r) = (p^2)/(1-pq)\n",
    "    \n",
    "    \n",
    "    Thus, P(A ∩ B) = (p^2)/(1-pq)\n",
    "    \n",
    "    \n",
    "    Now it's time to find P(B):\n",
    "    \n",
    "    P(B) is the probability that I won, thus \n",
    "    \n",
    "    W={HH,HTHH,HTHTHH,⋯}∪{THH,THTHH,THTHTHH,⋯}\n",
    "    \n",
    "    this is also a infinite geometric sequence\n",
    "    \n",
    "    Thus,\n",
    "    \n",
    "    p^2+p^3q+p^4q^2+⋯+p^2q+p^3q^2+p^4q^3+⋯\n",
    "    \n",
    "    p^2(1+pq+(pq)^2+(pq)^3+⋯)+p^2q(1+pq+(pq)^2+(pq)^3+⋯)\n",
    "    \n",
    "    p^2(1+q)(1+pq+(pq)^2+(pq)^3+⋯)\n",
    "    \n",
    "    using the formula we get:\n",
    "    \n",
    "    P(B) = (p^2(2-p))/(1-p+p^2)\n",
    "    \n",
    "    \n",
    "    The Answer altogether is :\n",
    "    \n",
    "    \n",
    "    P(A|B) = P(A ∩ B) / P(B)\n",
    "    \n",
    "           =  ((p^2)/(1-pq))   /   ((p^2(2-p))/(1-p+p^2))\n",
    "    \n",
    "    \n",
    "    \n",
    "    \n",
    "    \n",
    "    \n"
   ]
  },
  {
   "cell_type": "markdown",
   "metadata": {},
   "source": [
    "### Problem 8\n",
    "\n",
    "This is a problem about a standard deck of 52 playing cards:\n",
    "\n",
    "<img src=\"https://www.cs.bu.edu/fac/snyder/cs237/images/PlayingCards.png\" align='Left'>\n",
    "\n",
    "Supposing you shuffle a  deck of playing cards thoroughly and draw a single card, give the probability that the card is:\n",
    "\n",
    "(A) The King of Diamonds\n",
    "\n",
    "(B) A black card \n",
    "\n",
    "(C) Not a face card (i.e., not Jack, Queen, King) \n",
    "\n",
    "(D) A spade or an Ace \n",
    "\n",
    "(E) Neither a black card nor a face card   (= \"(not a black card) and (not a face card)\")\n",
    "\n",
    "Hint: Remember in D that *or* in English is the \"inclusive or,\" not the \"exclusive or\". "
   ]
  },
  {
   "cell_type": "markdown",
   "metadata": {},
   "source": [
    "**Solution:**\n",
    "\n",
    "    A.) There's only one king of diamond thus,\n",
    "        Probability: 1/52\n",
    "        \n",
    "    B.) There are 26 black cards in total, thus\n",
    "        26/52 ~ 13/26 ~ 1/2\n",
    "        \n",
    "    C.) There are 12 face cards, thus\n",
    "        not face cards is 52-12 = 40/52 ~ 10/13\n",
    "        \n",
    "    D.) 13 spades in total, 4 aces in total.\n",
    "    \n",
    "        One of these aces is also a spade thus,\n",
    "        \n",
    "        13 + 3 = 16\n",
    "        \n",
    "        16/52 ~ 4/13\n",
    "        \n",
    "    E.) There's only 20 cards that are both not black and not face, thus\n",
    "        \n",
    "        20/52 ~ 5/13\n",
    "        \n",
    "        \n"
   ]
  },
  {
   "cell_type": "markdown",
   "metadata": {},
   "source": [
    "### Note on choosing randomly\n",
    "\n",
    "There are two ways to choose objects from a collection in probability: with replacement and without replacement:\n",
    "\n",
    "  - **With Replacement**:  After an object, such as a playing card, is selected from a collection (such as a deck of cards), it is put back into the collection before the next selection. This is the usual situation when choosing virtual objects such as letter and numbers. In general, the probabilities of various events do not change as objects are chosen, because by putting the object back, you are ensuring that each choice is independent.  \n",
    "  \n",
    "  \n",
    "  - **Without Replacement**:  After the object is selected, it is NOT put back into the collection. This is the usual situation in card games, where the dealer chooses cards to distribute to the players, and they are given to the players, and not put back in the deck. In general, the probability of events will change, as the sample set is changed by the removal of one object. The choices are NOT independent. "
   ]
  },
  {
   "cell_type": "markdown",
   "metadata": {},
   "source": [
    "### Problem 9\n",
    "\n",
    "This is again, a problem about playing cards. We will choose 2 cards with replacement. \n",
    "\n",
    "Supposing you shuffle a  deck of playing cards thoroughly and draw two cards:  you draw the first card, put it *back in the deck*, shuffle it thoroughly and draw a second card. Give the probability that:\n",
    "\n",
    "(A) Both cards were face cards;\n",
    "\n",
    "(B) The second card was not the exact same card as the first one; \n",
    "\n",
    "(C) The two cards were different colors;  \n",
    "\n",
    "(D) Neither card was a face card; \n",
    "\n",
    "(E) If the first card was black, then the second card was red; \n",
    "\n",
    "Hint: The probabilities do not change for the second card, since you start all over again with the same\n",
    "randomized deck. "
   ]
  },
  {
   "cell_type": "markdown",
   "metadata": {},
   "source": [
    "**Solution:**\n",
    "\n",
    "    A.) There are 12 face cards in total. \n",
    "    \n",
    "        First card prob = 12/52 ~ 3/13 \n",
    "        Second card prob = 12/52 ~ 3/13 bc this is with replacement\n",
    "        \n",
    "        Answer = (3/13) * (3/13) = 9/169 \n",
    "        \n",
    "    B.) First Card: can be anything so = 1/52\n",
    "        Second Card: can't be the same card as first card so = 51/52\n",
    "        \n",
    "       (1/52) * (51/52) = (51/2704)\n",
    "       \n",
    "        And then we have to multiply (51/2704) with 52 because there are different cards\n",
    "        \n",
    "        Answer: 2652/2704 ~ 0.9808\n",
    "        \n",
    "    C.) There are 26 black cards, and 26 red cards, thus\n",
    "        \n",
    "        First Card: 26/52 ~ 1/2\n",
    "        Second Card: 26~52 ~ 1/2\n",
    "        \n",
    "        (1/2) * (1/2) = 1/4\n",
    "        \n",
    "        And then we have to multiply (1/4) with 2 because it could be red black or black red\n",
    "        \n",
    "        1/4 * 2 = 1/2\n",
    "        \n",
    "        Answer: 1/2\n",
    "        \n",
    "    D.) There are 12 face cards in total\n",
    "    \n",
    "        First card: since it's not face its 52-12 = 40/52 ~ 10/13\n",
    "        Second Card: 10/13 as well\n",
    "        \n",
    "        Answer = (10/13) * (10/13) = 100/169 \n",
    "        \n",
    "        \n",
    "    E.) \n",
    "        \n",
    "        1/2 because the probabilities do not change for the second card, since you start all over again with the same randomized deck."
   ]
  },
  {
   "cell_type": "markdown",
   "metadata": {},
   "source": [
    "### Problem 10\n",
    "\n",
    "Now we will draw two cards without replacement. Suppose you shuffle a  deck of playing cards thoroughly and draw the first two cards on the top of the deck (without returning the first card and without shuffling again). Give the probability that\n",
    "\n",
    "(A) Both cards were red;\n",
    "\n",
    "(B) The first card was red and the second card was a face card; \n",
    "\n",
    "(C) The two cards were different colors; \n",
    "\n",
    "(D) Neither card was a face card;\n",
    "\n",
    "(E) If the first card was black, then the second card was red;\n",
    "\n",
    "Hint: The probabilities change, since\n",
    "you are drawing the second card from a deck with only 51 cards, the first card having been removed. You have to\n",
    "account for what happened when the first card was removed. A tree diagram, of course, can help, but you don't have to provide it. "
   ]
  },
  {
   "cell_type": "markdown",
   "metadata": {},
   "source": [
    "**Solution:**\n",
    "\n",
    "    A.) There are 26 red cards, thus\n",
    "        \n",
    "        first card: 26/52 ~ 1/2\n",
    "        second card: since one red card was pulled there is one less card in the deck and one less red\n",
    "        so 25/51\n",
    "        \n",
    "        Answer = (1/2) * (25/51) = 25/102\n",
    "        \n",
    "    B.) Two scenerios:\n",
    "        \n",
    "        (Prob of red and face * Prob of face) +  (Prob of red and not face * Prob of face)\n",
    "        \n",
    "        (6/52 * 11/51) + (20/52 * 12/51)\n",
    "        \n",
    "        = 0.0249 + 0.0905 = 0.1154\n",
    "        \n",
    "    C.) first card: 26/52 ~ 1/2\n",
    "        second card: 26/51 \n",
    "        \n",
    "        (1/2) * (26/51) * 2\n",
    "        \n",
    "        = 0.5098\n",
    "        \n",
    "        \n",
    "    D.) Since neither is face card, and there are 12 face cards\n",
    "        first card: 40/52\n",
    "        second card: 39/51\n",
    "        \n",
    "        40/52 * 39/51 = 0.5882\n",
    "        \n",
    "        \n",
    "    E.) Because it says if the first card was black then its given that the first card was black, so we can just ignore it, thus\n",
    "    \n",
    "    the probability is 26/51"
   ]
  },
  {
   "cell_type": "markdown",
   "metadata": {
    "colab_type": "text",
    "id": "6D63sUF96D8W"
   },
   "source": [
    "## Lab Problems: Shuffling and Choosing from a List\n",
    "\n",
    "We will continue to investigate methods for simulating various kinds of random processes, with the same strategy as in the last HW:  You will write your own versions of standard functions from the `numpy.random` library: last time you wrote your own versions of `random()` and `randint(...)`; in this lab you will write your own versions of the functions  `choice(...)`, and `shuffle(...)`.  You may read about them further <a href=\"https://numpy.org/doc/1.16/reference/routines.random.html\">here</a>, but all the information you need will be presented here, and then we will do some experiments involving a standard deck of 52 playing cards, reproducing experimentally one of the problems you solved analytically above. \n",
    "\n",
    "**Important Note:** My educational strategy here is to have you create your own versions of the standard `numpy.random` functions, in order to understand deeply how they work. After that goal is achieved, however, it is better to use the library functions, not your own.  The standard library functions are the ones you will use in the future, and in any case they are implemented using state-of-the art random number generators and are the most efficient possible implementations.  There is no reason to use your own (presumably less well-implemented) once the goal of understanding is finished. \n",
    "\n",
    "Therefore, in this lab, you will use the standard and `randint(...)` . Do NOT use your own `my_randint(...)`. \n",
    "There is only one difference between your functions and the standard ones, and that is that `numpy` functions in general will work on lists or arrays, applying the function to every member of the list. You should get used to this, and to using list comprehensions, as it leads to much more concise and elegant code, with fewer bugs!"
   ]
  },
  {
   "cell_type": "code",
   "execution_count": 90,
   "metadata": {},
   "outputs": [
    {
     "name": "stdout",
     "output_type": "stream",
     "text": [
      "[0.71187045 0.05373355 0.39622274 0.16743582 0.82190391 0.70052862\n",
      " 0.8830776  0.96657511 0.77474761 0.99423308]\n",
      "[2 4 4 4 2 3 6 1 5 3]\n"
     ]
    }
   ],
   "source": [
    "# Reminder how these work\n",
    "\n",
    "# print out an array of 10 random numbers in range [0..1)\n",
    "print( random(10))\n",
    "\n",
    "# print out an array of 10 random numbers in range [l, ..., 6]\n",
    "print( randint(1,7,10))"
   ]
  },
  {
   "cell_type": "markdown",
   "metadata": {},
   "source": [
    "### More Random Functions:  Choice and Shuffle\n",
    "\n",
    "In more complicated kinds of problems, we need to do more sophisticated things with a collection, such\n",
    "as when we perform simulations about cards, say if we want to verify the answers to Problems 8 and 9 above. \n",
    "\n",
    "There are two useful `numpy.random` functions that we will learn to implement outselves"
   ]
  },
  {
   "cell_type": "markdown",
   "metadata": {},
   "source": [
    "### Numpy's shuffle function"
   ]
  },
  {
   "cell_type": "code",
   "execution_count": 91,
   "metadata": {},
   "outputs": [
    {
     "data": {
      "text/plain": [
       "[3, 4, 6, 5, 2, 1]"
      ]
     },
     "execution_count": 91,
     "metadata": {},
     "output_type": "execute_result"
    }
   ],
   "source": [
    "die_roll = [1,2,3,4,5,6]\n",
    "\n",
    "# Run this cell a few times to see what it does\n",
    "# Note that it changes the list/array, and does not return a list\n",
    "\n",
    "\n",
    "shuffle( die_roll )\n",
    "\n",
    "die_roll"
   ]
  },
  {
   "cell_type": "markdown",
   "metadata": {},
   "source": [
    "### Numpy's choice function:  random sampling\n",
    "\n",
    "         numpy.random.choice(a, size=None, replace=True)"
   ]
  },
  {
   "cell_type": "code",
   "execution_count": 92,
   "metadata": {},
   "outputs": [
    {
     "name": "stdout",
     "output_type": "stream",
     "text": [
      "5\n",
      "[2 6 3 1 4 6 4 6 1 4 3 6 2 6 4 2 6 4 4 5 4 5 1 4 6]\n",
      "[5 2 1 3 6]\n"
     ]
    }
   ],
   "source": [
    "# Randomly choose one member of a list or array\n",
    "\n",
    "die_roll = [1,2,3,4,5,6]\n",
    "\n",
    "print(  choice( [1,2,3,4,5,6] ) )\n",
    "\n",
    "# Vector version!  \n",
    "\n",
    "print(  choice( [1,2,3,4,5,6], size=25 ) )\n",
    " \n",
    "#  You can also choose \"without replacement\" (the default is WITH replacement)\n",
    "\n",
    "print(  choice( [1,2,3,4,5,6], size=5, replace=False))"
   ]
  },
  {
   "cell_type": "code",
   "execution_count": 93,
   "metadata": {},
   "outputs": [
    {
     "data": {
      "text/plain": [
       "'d'"
      ]
     },
     "execution_count": 93,
     "metadata": {},
     "output_type": "execute_result"
    }
   ],
   "source": [
    "cards = ['a', 'b', 'c', 'd']\n",
    "cards\n",
    "\n",
    "cards[  randint(len(cards))  ]"
   ]
  },
  {
   "cell_type": "code",
   "execution_count": null,
   "metadata": {},
   "outputs": [],
   "source": []
  },
  {
   "cell_type": "markdown",
   "metadata": {
    "colab_type": "text",
    "id": "YqAwi1uO6D8Y"
   },
   "source": [
    "##  Problem 11: Shuffling and Choosing from a List   (worth 10 points)\n",
    "Now we will we will create our own versions of the \n",
    "<code>shuffle(...)</code> and <code>choice(...)</code> functions, which you can read about\n",
    "<a href=\"https://numpy.org/doc/1.16/reference/routines.random.html\">here</a>.\n",
    "\n",
    "All you need to do is to demonstrate these as shown. We could test them using probability distributions, but it will sufficient to check the results by eye...   You could also test them by comparing\n",
    "them with the numpy versions, with slight differences as specified\n",
    "below.   The main detail, which I admit is a bit fussy, is\n",
    "that some numpy functions return a single value by default, \n",
    "and a list of values if you specify a size. \n",
    "\n",
    "<strong>NOTE: In this problem, you may use <code>seed(...)</code> and <code>randint(...)</code>from the numpy random library but no other\n",
    "library functions which generate random results. </strong>\n",
    "\n",
    "\n",
    "### (A): Choosing from a list with replacement\n",
    "\n",
    "This part is easy: to choose a member of a list randomly and with replacement, simply generate a random integer as an index and return the member at the index. The only small complication is that when size is not specified, it should return a single element; when size is specified, return a list of such randomly-chosen elements. \n"
   ]
  },
  {
   "cell_type": "code",
   "execution_count": 94,
   "metadata": {
    "colab": {},
    "colab_type": "code",
    "id": "cKTocSYJ6D8a",
    "outputId": "09e19b54-318c-4466-892d-da61dc7dff19"
   },
   "outputs": [
    {
     "name": "stdout",
     "output_type": "stream",
     "text": [
      "Here is one choice: 5\n",
      "Here are multiple choices:\n",
      "[]\n",
      "[6]\n",
      "[1, 4]\n",
      "[4, 4, 2]\n",
      "[4, 6, 3, 5]\n",
      "[1, 1, 5, 3, 2]\n",
      "[1, 2, 6, 2, 6, 1]\n",
      "[2, 5, 4, 1, 4, 6, 1]\n",
      "[3, 4, 1, 2, 4, 6, 4, 4]\n",
      "[1, 2, 2, 2, 1, 3, 5, 4, 4]\n"
     ]
    }
   ],
   "source": [
    "# Choose elements from a list with replacement. If size == None, then\n",
    "# return a single element, else create a list of length size, filled with\n",
    "# randomly chosen elements from the list  \n",
    "\n",
    "def choice_with_replacement(X,size=None):\n",
    "    if size == None:\n",
    "        return X[  randint(len(X))  ]                              # your code here\n",
    "    else:\n",
    "        return [ X[  randint(len(X))  ]    for k in range(size) ]\n",
    "\n",
    "# Test it!\n",
    "\n",
    "seed(0)\n",
    "\n",
    "\n",
    "X = list(range(1,7))\n",
    "\n",
    "print(\"Here is one choice:\", choice_with_replacement(X))      # should be 5\n",
    "\n",
    "print(\"Here are multiple choices:\")\n",
    "for k in range(10):\n",
    "    print(choice_with_replacement(X,size=k))                  # last one should be [1, 2, 2, 2, 1, 3, 5, 4, 4]\n"
   ]
  },
  {
   "cell_type": "markdown",
   "metadata": {
    "colab_type": "text",
    "id": "HQIwSF_n6D8f"
   },
   "source": [
    "### (B): Shuffling a list\n",
    "\n",
    "Shuffling a deck of cards means to permute the order sufficientlly that it appears to be random. \n",
    "One could simply keep exchanging members of the list, but how many such exchanges is necessary?\n",
    "\n",
    "A better method is the following, known as the  <a href=\"https://en.wikipedia.org/wiki/Fisher%E2%80%93Yates_shuffle\">Fisher-Yates Shuffle</a>, which works in $O(n)$. Basically, you maintain a shuffled part of the list and an unshuffled part of the list, and at each step you randomly select an element from the unshuffled part and move it to the shuffled part. \n",
    "<pre>\n",
    "-- To shuffle an array A of n elements (indices 0..n-1):\n",
    "for i from n−1 downto 1 do\n",
    "     j ← random integer such that 0 ≤ j ≤ i\n",
    "     exchange A[j] and A[i]\n",
    "</pre>\n",
    "Note that this shuffle works in-place.  \n",
    "\n",
    "Here is a trace of what happens to a list [1,...,10] in \n",
    "a sample run of the algorithm:\n",
    "\n",
    "<pre>\n",
    "i=9 j=5\n",
    "[1, 2, 3, 4, 5, 6, 7, 8, 9, 10]\n",
    "i=8 j=0\n",
    "[1, 2, 3, 4, 5, 10, 7, 8, 9, 6]\n",
    "i=7 j=3\n",
    "[9, 2, 3, 4, 5, 10, 7, 8, 1, 6]\n",
    "i=6 j=3\n",
    "[9, 2, 3, 8, 5, 10, 7, 4, 1, 6]\n",
    "i=5 j=3\n",
    "[9, 2, 3, 7, 5, 10, 8, 4, 1, 6]\n",
    "i=4 j=1\n",
    "[9, 2, 3, 10, 5, 7, 8, 4, 1, 6]\n",
    "i=3 j=3\n",
    "[9, 5, 3, 10, 2, 7, 8, 4, 1, 6]\n",
    "i=2 j=1\n",
    "[9, 5, 3, 10, 2, 7, 8, 4, 1, 6]\n",
    "i=1 j=0\n",
    "[9, 3, 5, 10, 2, 7, 8, 4, 1, 6]\n",
    "</pre>"
   ]
  },
  {
   "cell_type": "code",
   "execution_count": 95,
   "metadata": {
    "colab": {},
    "colab_type": "code",
    "id": "m1ApeDWm6D8g",
    "outputId": "db24949a-1051-4666-e2a7-d3fcc0b751b5"
   },
   "outputs": [
    {
     "name": "stdout",
     "output_type": "stream",
     "text": [
      "[3, 9, 5, 10, 2, 7, 8, 4, 1, 6]\n",
      "[10, 7, 9, 5, 6, 1, 3, 8, 4, 2]\n",
      "[9, 5, 4, 6, 1, 7, 10, 3, 2, 8]\n",
      "[10, 5, 8, 4, 3, 7, 2, 9, 6, 1]\n",
      "[7, 8, 9, 3, 5, 10, 2, 6, 1, 4]\n"
     ]
    }
   ],
   "source": [
    "# Shuffle using the Fisher-Yates algorithm.\n",
    "# This will modify the list in place, permanently changing it\n",
    "\n",
    "\n",
    "def my_shuffle(X, leng):\n",
    "    # your code here\n",
    "    for i in range(leng-1,0,-1): \n",
    "        j = randint(0,i+1) \n",
    "   \n",
    "        X[i],X[j] = X[j],X[i] \n",
    "    return X\n",
    "\n",
    "# Test it!\n",
    "\n",
    "\n",
    "seed(0)\n",
    "\n",
    "X = [1,2,3,4,5,6,7,8,9,10]\n",
    "\n",
    "leng = len(X)\n",
    "\n",
    "for k in range(5):\n",
    "    my_shuffle(X, leng)              # last one should be [7, 8, 9, 3, 5, 10, 2, 6, 1, 4]\n",
    "    print(X)"
   ]
  },
  {
   "cell_type": "markdown",
   "metadata": {
    "colab_type": "text",
    "id": "qcGwuckV6D8m"
   },
   "source": [
    "### (C) Choosing without replacement from a list\n",
    "\n",
    "If you don't care much about efficiency, then to sample WITHOUT replacement (as you do in dealing Poker hands), you can just slice the list produced by shuffling to return a\n",
    "list of the required length `size`. \n",
    "\n",
    "HOWEVER, choice does not change the list, so make sure to make a copy, and shuffle that!\n"
   ]
  },
  {
   "cell_type": "code",
   "execution_count": 96,
   "metadata": {
    "colab": {},
    "colab_type": "code",
    "id": "mB8IV93L6D8n",
    "outputId": "0ed80fd9-3b25-49c7-eef1-7b97db0f19d3"
   },
   "outputs": [
    {
     "name": "stdout",
     "output_type": "stream",
     "text": [
      "[3, 9, 5, 10, 2, 7, 8, 4, 1, 6]\n",
      "[4, 6, 2, 3, 10, 9, 1, 7, 8, 5]\n",
      "[3, 4, 9, 5, 6, 2, 1, 7, 10, 8]\n",
      "[7, 2, 10, 3, 8, 6, 9, 1, 4, 5]\n",
      "[6, 3, 8, 5, 2, 1, 7, 9, 10, 4]\n",
      "[2, 9, 10, 6, 3, 7, 4, 8, 5, 1]\n",
      "[4, 3, 2, 8, 9, 7, 6, 5, 10, 1]\n",
      "[1, 10, 3, 4, 6, 7, 8, 2, 9, 5]\n",
      "[8, 9, 10, 2, 5, 6, 4, 7, 1, 3]\n",
      "[2, 3, 6, 1, 9, 4, 8, 10, 7, 5]\n",
      "Here is one choice: 6\n"
     ]
    }
   ],
   "source": [
    "# Return a list of length size of elements from the list X; shuffle \n",
    "# the WHOLE list and slice an initial part of the list and return it.\n",
    "\n",
    "# Make a copy of the list, since shuffle will change the this, but this function should NOT change its input. \n",
    "\n",
    "\n",
    "def choice_without_replacement(X,size=None):\n",
    "    X1 = list(X)\n",
    "    if size == None:\n",
    "        return X[  randint(len(X))  ]  \n",
    "    else:\n",
    "        X1 = list(X)\n",
    "        leng = len(X1)\n",
    "        return my_shuffle(X1, leng)\n",
    "    \n",
    "    \n",
    "# Test it!\n",
    "   \n",
    "seed(0)\n",
    "      \n",
    "      \n",
    "X = [1,2,3,4,5,6,7,8,9,10]\n",
    "for k in range(1,11):\n",
    "    print(choice_without_replacement(X,k))          # last one should be [2, 3, 6, 1, 9, 4, 8, 10, 7, 5]\n",
    "\n",
    "    \n",
    "seed(0)\n",
    "\n",
    "print(\"Here is one choice:\", choice_without_replacement(X))     # should be 6"
   ]
  },
  {
   "cell_type": "markdown",
   "metadata": {},
   "source": [
    "### (D) Bounded Choosing without replacement from a list\n",
    "\n",
    "There is one inefficiency in the sampling algorithm using the Fisher-Yates shuffle: it shuffles the whole list, and then only returns a part of the list. With cards, this is exactly what you do, but we might want to think of the most efficient way to do it.\n",
    "For example, if you are dealing out five cards, you could stop the algorithm after five iterations through the loop (picking only five numbers randomly from the whole deck). \n",
    "Note that you can't just shuffle part of the list: you have to randomly select numbers from the whole list, making sure you don't choose the same number twice. Stopping the loop early will shuffle only the last part of the list (if you follow the Fisher-Yates algorithm, which works from the back forward through the list). \n",
    "\n",
    "Fill in the template below to create a better version of the previous function which does precisely this. \n",
    "\n"
   ]
  },
  {
   "cell_type": "code",
   "execution_count": 97,
   "metadata": {},
   "outputs": [
    {
     "name": "stdout",
     "output_type": "stream",
     "text": [
      "[3, 9, 5, 10, 2, 7, 8, 4, 1, 6]\n",
      "[4, 6, 2, 3, 10, 9, 1, 7, 8, 5]\n",
      "[3, 4, 9, 5, 6, 2, 1, 7, 10, 8]\n",
      "[7, 2, 10, 3, 8, 6, 9, 1, 4, 5]\n",
      "[6, 3, 8, 5, 2, 1, 7, 9, 10, 4]\n",
      "[2, 9, 10, 6, 3, 7, 4, 8, 5, 1]\n",
      "[4, 3, 2, 8, 9, 7, 6, 5, 10, 1]\n",
      "[1, 10, 3, 4, 6, 7, 8, 2, 9, 5]\n",
      "[8, 9, 10, 2, 5, 6, 4, 7, 1, 3]\n",
      "[2, 3, 6, 1, 9, 4, 8, 10, 7, 5]\n",
      "Here is one choice: 6\n"
     ]
    }
   ],
   "source": [
    "# Return a list of length size of elements from the list X; shuffle \n",
    "# the list and slice of a part of the list, at the end of the list \n",
    "\n",
    "# Make a copy of the list before shuffling it!@\n",
    "\n",
    "def bounded_choice_without_replacement(X,size=None):\n",
    "    X1 = list(X)\n",
    "    if size == None:\n",
    "        return X[  randint(len(X))  ]  \n",
    "    else:\n",
    "        X1 = list(X)\n",
    "        leng = len(X1)\n",
    "        return my_shuffle(X1, leng)\n",
    "\n",
    "# Test it! \n",
    "      \n",
    "seed(0)\n",
    "\n",
    "X = [1,2,3,4,5,6,7,8,9,10]\n",
    "for k in range(1,11):\n",
    "    print(bounded_choice_without_replacement(X,k))      # last one should be [2, 10, 1, 6, 3, 9, 7, 4, 8, 5]\n",
    "\n",
    "seed(0)\n",
    "\n",
    "print(\"Here is one choice:\", bounded_choice_without_replacement(X))     # should be a 6"
   ]
  },
  {
   "cell_type": "markdown",
   "metadata": {},
   "source": [
    "### (E) Putting it all together: the choice function\n",
    "\n",
    "Now, to recreate the functionality of the numpy choice function, we need\n",
    "to allow the user to select which option, with or without replacement,\n",
    "that is desired.\n",
    "\n",
    "This is trivial, you just need to select the appropriate function you created in (A) or (D). "
   ]
  },
  {
   "cell_type": "code",
   "execution_count": 98,
   "metadata": {
    "scrolled": false
   },
   "outputs": [
    {
     "name": "stdout",
     "output_type": "stream",
     "text": [
      "[6]\n",
      "[1, 4]\n",
      "[4, 8, 10]\n",
      "[4, 6, 3, 5]\n",
      "[8, 7, 9, 9, 2]\n",
      "[7, 8, 8, 9, 2, 6]\n",
      "[10, 9, 10, 5, 4, 1, 4]\n",
      "[6, 1, 3, 4, 9, 2, 4, 4]\n",
      "[4, 8, 1, 2, 10, 10, 1, 5, 8]\n",
      "[4, 3, 8, 3, 1, 1, 5, 6, 6, 7]\n",
      "\n",
      "[3, 9, 5, 10, 2, 7, 8, 4, 1, 6]\n",
      "[4, 6, 2, 3, 10, 9, 1, 7, 8, 5]\n",
      "[3, 4, 9, 5, 6, 2, 1, 7, 10, 8]\n",
      "[7, 2, 10, 3, 8, 6, 9, 1, 4, 5]\n",
      "[6, 3, 8, 5, 2, 1, 7, 9, 10, 4]\n",
      "[2, 9, 10, 6, 3, 7, 4, 8, 5, 1]\n",
      "[4, 3, 2, 8, 9, 7, 6, 5, 10, 1]\n",
      "[1, 10, 3, 4, 6, 7, 8, 2, 9, 5]\n",
      "[8, 9, 10, 2, 5, 6, 4, 7, 1, 3]\n",
      "[2, 3, 6, 1, 9, 4, 8, 10, 7, 5]\n",
      "Here is one choice: 6\n"
     ]
    }
   ],
   "source": [
    "# Choice function with optional parameter to select with or without replacemnt. \n",
    "# We will depart from the behavior of np.random.choice in one respect: the first\n",
    "# parameter MUST be a list (numpy allows an integer N to represent the list [0..N-1]).\n",
    "# We also will not implement the parameter p (the probabilities for the list). \n",
    "\n",
    "def my_choice(X,size=None,replace=True):\n",
    "    if replace == False:\n",
    "        return choice_without_replacement(X,size)\n",
    "    else:\n",
    "        return choice_with_replacement(X,size)\n",
    "    \n",
    "seed(0)\n",
    "\n",
    "X = [1,2,3,4,5,6,7,8,9,10]\n",
    "for k in range(1,11):\n",
    "    print(my_choice(X,k,True))      # last one should be [4, 3, 8, 3, 1, 1, 5, 6, 6, 7]\n",
    "\n",
    "print() \n",
    "\n",
    "seed(0)\n",
    "\n",
    "X2 = [1,2,3,4,5,6,7,8,9,10]\n",
    "for k in range(1,11):\n",
    "    print(my_choice(X2,k,False))   # last one should be [2, 10, 1, 6, 3, 9, 7, 4, 8, 5]\n",
    "    \n",
    "seed(0)\n",
    "\n",
    "print(\"Here is one choice:\", my_choice(X))     # should be a 6"
   ]
  },
  {
   "cell_type": "code",
   "execution_count": null,
   "metadata": {},
   "outputs": [],
   "source": []
  },
  {
   "cell_type": "code",
   "execution_count": null,
   "metadata": {},
   "outputs": [],
   "source": []
  }
 ],
 "metadata": {
  "kernelspec": {
   "display_name": "Python 3",
   "language": "python",
   "name": "python3"
  },
  "language_info": {
   "codemirror_mode": {
    "name": "ipython",
    "version": 3
   },
   "file_extension": ".py",
   "mimetype": "text/x-python",
   "name": "python",
   "nbconvert_exporter": "python",
   "pygments_lexer": "ipython3",
   "version": "3.8.3"
  }
 },
 "nbformat": 4,
 "nbformat_minor": 2
}
