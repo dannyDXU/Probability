{
 "cells": [
  {
   "cell_type": "markdown",
   "metadata": {},
   "source": [
    "# CS 237 Spring 2021, HW 07 \n",
    "\n",
    "#### Due date: Wednesday March 17th at Midnight (1 minute after 11:59pm on 2/11) via Gradescope (30 hour grace period)\n",
    "\n",
    "<strong> Late policy:</strong> You may submit the homework up to 48 hours late for a 10% penalty. Hence, the late deadline is Friday 3/19 at Midnight (with the normal 6 hour grace period). \n",
    "\n",
    "#### General Instructions\n",
    "\n",
    "Please complete this notebook by filling in solutions where indicated. \n",
    "\n",
    "For full credit, please take careful note of the following requirements:\n",
    "\n",
    "- Do NOT use any HTML tags in your notebook, as Gradescope will ignore them;\n",
    "\n",
    "- Do NOT answer questions by including images, as Gradescope will ignore them; and \n",
    "\n",
    "- You MUST  \"Restart and Run All\" from the Kernel menu before submitting to Gradescope.\n",
    "\n",
    "**Any assignments which do not follow these requirements will not receive full credit.** \n",
    "\n",
    "\n",
    "\n",
    "There are 8 analytical problems and 4 programming problems. An introductory video will be posted on YT for\n",
    "the analytical problems, and the programming problems will be covered Friday in lab. "
   ]
  },
  {
   "cell_type": "code",
   "execution_count": 11,
   "metadata": {},
   "outputs": [],
   "source": [
    "# Here are some imports which will be used in code that we write for CS 237\n",
    " \n",
    "\n",
    "# Imports potentially used for this lab\n",
    "\n",
    "\n",
    "import matplotlib.pyplot as plt   # normal plotting\n",
    "import numpy as np\n",
    "\n",
    "from math import log, pi,log,floor       # import whatever you want from math\n",
    "from random import seed, random\n",
    "from scipy.special import comb\n",
    "from collections import Counter\n",
    "\n",
    "%matplotlib inline\n",
    "\n",
    "# Calculating permutations and combinations efficiently\n",
    "\n",
    "def P(N,K):\n",
    "    res = 1\n",
    "    for i in range(K):\n",
    "        res *= N\n",
    "        N = N - 1\n",
    "    return res\n",
    "           \n",
    "def C(N,K):    \n",
    "    return comb(N,K,True)     # just a wrapper around the scipy function\n",
    "\n",
    "\n",
    "# Useful code \n",
    "\n",
    "def show_distribution(outcomes, title='Probability Distribution'):\n",
    "    num_trials = len(outcomes)\n",
    "    X = range( int(min(outcomes)), int(max(outcomes))+1 )\n",
    "    freqs = Counter(outcomes)\n",
    "    Y = [freqs[i]/num_trials for i in X]\n",
    "    plt.bar(X,Y,width=1.0,edgecolor='black')\n",
    "    if (X[-1] - X[0] < 30):\n",
    "        ticks = range(X[0],X[-1]+1)\n",
    "        plt.xticks(ticks, ticks) \n",
    "    plt.xlabel(\"Outcomes\")\n",
    "    plt.ylabel(\"Probability\")\n",
    "    plt.title(title)\n",
    "    plt.show()\n",
    "\n",
    "# This function takes the range and PMF of a discrete RV and draws the distribution.  \n",
    "\n",
    "def draw_distribution(Rx, fx, title='Probability Distribution for X'):\n",
    "    plt.bar(Rx,fx,width=1.0,edgecolor='black')\n",
    "    plt.ylabel(\"Probability\")\n",
    "    plt.xlabel(\"Outcomes\")\n",
    "    if (Rx[-1] - Rx[0] < 30):\n",
    "        ticks = range(Rx[0],Rx[-1]+1)\n",
    "        plt.xticks(ticks, ticks)  \n",
    "    plt.title(title)\n",
    "    plt.show()\n",
    "    \n",
    "def round4(x):\n",
    "    return round(x+0.00000000001,4)\n",
    "\n",
    "def round4_list(L):\n",
    "    return [ round4(x) for x in L]\n"
   ]
  },
  {
   "cell_type": "markdown",
   "metadata": {},
   "source": [
    "## Analytical Problem Instructions\n",
    "\n",
    "The Problems 2, 3, and 4 ask you to \"describe\" a random variable, which means:\n",
    "\n",
    "> (i)   Give $R_X$ (you may schematize it if it is very complicated or infinite);<br>\n",
    "> (ii)  List out the values of $f_X$ corresponding to each element of $R_X$; <br>\n",
    "> (iii)  Draw a probability distribution, using the function <code>draw_distribution</code> provided in the previous cell. <br>\n",
    "\n",
    "As always, round to 4 decimal places <strong>at the last stage</strong>, using the functions <code>round4(...)</code> and <code>round4_list(...)</code> given above.\n",
    "\n",
    "A nice way to approach these is to do any complicated calculations in Python and then if you have\n",
    "to change something you won't have to redo all the calculations. Plus, you will make fewer\n",
    "mistakes in calculation. However, there is no need to do this for simpler problems. \n",
    "\n",
    "I also **strongly** recommend creating new variables for each problem, for example Rx1, Rx2, etc. for\n",
    "the range of the random variable in problems 1, 2, etc.   That way, you won't have problems if you\n",
    "forget and use the wrong variable! You can also refer to previous results without problems. \n",
    "\n",
    "Following Problem One is an example of what I mean (it is a simple problem, but I am showing you\n",
    "how you could approach it). \n",
    "\n",
    "You are not **required** to do it this way, but I *encourage* you to do something similar. \n",
    "\n",
    "[Optional, but a great idea: Write a function `print_solution(...)` which prints out all the answers as shown in the Example Problem!]"
   ]
  },
  {
   "cell_type": "markdown",
   "metadata": {},
   "source": [
    "## Example Problem\n",
    "\n",
    "\n",
    "*Describe* the random variable X = \"the number of heads showing on 2 flipped fair coins\"\n"
   ]
  },
  {
   "cell_type": "code",
   "execution_count": 12,
   "metadata": {},
   "outputs": [
    {
     "name": "stdout",
     "output_type": "stream",
     "text": [
      "Solution:\n",
      "\n",
      "(i)   Rx = [0, 1, 2]\n",
      "(ii)  fx = [0.25, 0.5, 0.25]\n",
      "(iii)\n"
     ]
    },
    {
     "data": {
      "image/png": "[encoded data removed]",
      "text/plain": [
       "<Figure size 432x288 with 1 Axes>"
      ]
     },
     "metadata": {
      "needs_background": "light"
     },
     "output_type": "display_data"
    }
   ],
   "source": [
    "Rx0 = list(range(3))\n",
    "\n",
    "def f0(k):                        # if you write f as a Python function, then you can create the list\n",
    "    return  C(2,k)/4              # fx by using a list comprehension, as shown here:\n",
    "    \n",
    "fx0 = [ f0(k) for k in Rx0 ]\n",
    "\n",
    "def print_solution(Rx,fx):\n",
    "    print(\"Solution:\\n\")\n",
    "    print(\"(i)   Rx =\",Rx)\n",
    "    print(\"(ii)  fx =\",round4_list(fx))             # in case you get complicated decimals, round to 4 places\n",
    "    print(\"(iii)\")\n",
    "    draw_distribution( Rx, fx, title='PDF for Example Problem')\n",
    "    \n",
    "print_solution(Rx0,fx0)\n"
   ]
  },
  {
   "cell_type": "markdown",
   "metadata": {},
   "source": [
    "## Problem One\n",
    "\n",
    "Do problem 1 from the End of Chapter Problems for Chapter 3 (section 3.3). "
   ]
  },
  {
   "cell_type": "markdown",
   "metadata": {},
   "source": [
    "**Solution:**\n",
    "    \n",
    "    1/2   for x = 0 \n",
    "    1/3   for x = 1\n",
    "    1/6   for x = 2\n",
    "    0     otherwise\n",
    "    \n",
    "    a.) Find RX, the range of the random variable X.\n",
    "        \n",
    "        The range is {0, 1, 2}\n",
    "    \n",
    "    b.) Find P(X ≥ 1.5)\n",
    "    \n",
    "        Because  of (1/6   for x = 2)\n",
    "        \n",
    "        The answer is 1/6\n",
    "    \n",
    "    c.) Find P(0<X<2)\n",
    "    \n",
    "        only when x = 1 does it mean the requiremnet of 0<X<2\n",
    "        \n",
    "        The answer is 1/3\n",
    "    \n",
    "    d.) Find P(X=0|X<2)\n",
    "    \n",
    "        This is a conditional Prob\n",
    "        \n",
    "        Thus,\n",
    "        \n",
    "        P(X=0|X<2) = P( X = 0 and X is less than 2) / P (X < 2)\n",
    "        \n",
    "                   = P(X = 0) / P(X = 0) + P(X = 1)\n",
    "                   \n",
    "                   = (1/2) / ((1/2) + (1/3))\n",
    "                   \n",
    "                   = 0.6\n",
    "        \n",
    "    \n",
    "        \n",
    "\n"
   ]
  },
  {
   "cell_type": "markdown",
   "metadata": {},
   "source": [
    "## Problem Two\n",
    "\n",
    "Suppose you deal a 5-card hand from a standard deck which has been shuffled well. \n",
    "\n",
    "Let $X$ = \"The number of Spades occurring in the hand.\" \n",
    "\n",
    "*Describe* the random variable $X$. "
   ]
  },
  {
   "cell_type": "code",
   "execution_count": 13,
   "metadata": {},
   "outputs": [
    {
     "name": "stdout",
     "output_type": "stream",
     "text": [
      "Solution:\n",
      "\n",
      "(i)   Rx = [0, 1, 2, 3, 4, 5]\n",
      "(ii)  fx = [0.2215, 0.4114, 0.2743, 0.0815, 0.0107, 0.0005]\n",
      "(iii)\n"
     ]
    },
    {
     "data": {
      "image/png": "[encoded data removed]",
      "text/plain": [
       "<Figure size 432x288 with 1 Axes>"
      ]
     },
     "metadata": {
      "needs_background": "light"
     },
     "output_type": "display_data"
    }
   ],
   "source": [
    "# template for solution\n",
    "\n",
    "# Range\n",
    "Rx2 = [0, 1, 2, 3, 4, 5]     # your code here\n",
    "\n",
    "# define f(k)  = P(X = k)\n",
    "\n",
    "def f2(k):\n",
    "    return ((C(13, k) * C(39, 5 - k))/ C(52, 5)) # your code here\n",
    "\n",
    "# PMF\n",
    "fx2 = [ f2(k) for k in Rx2 ]   # your code here\n",
    "\n",
    "# if you want to write print_solution\n",
    "\n",
    "print_solution(Rx2,fx2)"
   ]
  },
  {
   "cell_type": "markdown",
   "metadata": {},
   "source": [
    "## Problem Three\n",
    "\n",
    "This random experiment takes the form of a game, in which one \"trial\" consists of drawing two chips at random and <i>without replacement</i> from an urn that contains 2 red, 4 white, and 5 blue chips.  For\n",
    "each blue chip we win $\\$$1, for each white chip we win $\\$$2, but for each red chip we \n",
    "lose $\\$$3. \n",
    "\n",
    "<i>Describe</i> the random variable $Y$ which implements this random experiment (a \"win\" returns a positive number, whereas a \"loss\" returns a negative number, e.g., -3). \n"
   ]
  },
  {
   "cell_type": "markdown",
   "metadata": {},
   "source": [
    "**Solution:**\n",
    "\n",
    "    Draw two without replacement:\n",
    "    \n",
    "    BLUE: WIN 1\n",
    "    White: WIN 2\n",
    "    RED: LOSE 3\n",
    "    \n",
    "    \n",
    "    R = red\n",
    "    W = white\n",
    "    B = Blue\n",
    "    \n",
    "    Y = random variable\n",
    "   \n",
    "    \n",
    "    \n",
    "          2 - 3 = -1       2 + 1 = 3         1 - 3 = -2      -3 + -3 = -6      2 + 2 = 4        1 + 1 = 2\n",
    "    \n",
    "    Y\t(R=1,W=1,B=0)\t  (R=0,W=1,B=1)\t   (R=1,W=0,B=1)\t(R=2,W=0,B=0)\t(R=0,W=2,B=0)\t(R=0,W=0,B=2)\n",
    "           \n",
    "           -1\t               3\t             -2\t             -6\t              4\t              2\n",
    "\n",
    "           (Loss)            (Win)             (Loss)           (Loss)          (Win)           (Win)\n",
    "           \n",
    "           "
   ]
  },
  {
   "cell_type": "markdown",
   "metadata": {},
   "source": [
    "## Problem Four\n",
    "\n",
    "We refer to the random variable $X$ from Problem Two. \n",
    "\n",
    "<i>Describe</i> the random variable $Y = 2X + X - 1$\n",
    "\n",
    "\n",
    "Hint: when more than one instance of a random variable is involved, it is often useful to draw a matrix of all possibilities.  Consider the two instances\n",
    "of $X$ (i.e., two \"pokes\" at the same random variable) and draw a matrix of each of the possible outputs of the random variables, one along the rows and one along the columns.\n",
    "\n",
    "|    |  0  |  1  |  2  |  3  |  4  |  5  |\n",
    "|----|-----|-----|-----|-----|-----|-----|\n",
    "|  <b>0</b> |    |     |    |     |     |     | \n",
    "|  <b>1</b> |    |     |    |     |     |     | \n",
    "|  <b>2</b> |    |     |    |     |     |     |\n",
    "|  <b>3</b> |    |     |    |     |     |     |  \n",
    "|  <b>4</b> |    |     |    |     |     |     | \n",
    "|  <b>5</b> |    |     |    |     |     |     |      \n",
    "\n",
    "For each slot in the resulting matrix, you can figure out the probabilities\n",
    "by multiplication (since the two instances of X are independent), as shown in class. The value in each slot will be $2X + X - 1$. \n",
    "Some outcomes will be the same, and you will have to add the probabilities\n",
    "to get the PMF of Y. \n",
    "\n",
    "I would do this calculation in Python, but it is up to you. \n",
    "If you use Python, you might want to use a dictionary to keep track of the values in the PMF. \n"
   ]
  },
  {
   "cell_type": "markdown",
   "metadata": {},
   "source": [
    "**Solution:**\n",
    "\n",
    "            0\t        1\t        2\t        3\t        4\t       5\n",
    "\n",
    "    0\t0.049077\t0.091143\t0.060762\t1.81E-02\t2.38E-03\t9.70E-06\n",
    "\n",
    "    1\t0.091143\t0.169266\t0.112844\t3.35E-02\t4.41E-03\t2.04E-04\n",
    "\n",
    "    2\t0.060762\t0.112844\t0.075229\t2.24E-02\t2.94E-03\t1.36E-04\n",
    "\n",
    "    3\t0.018064\t0.033548\t0.022365\t6.65E-03\t8.75E-04\t4.04E-05\n",
    "\n",
    "    4\t0.002377\t0.004414\t0.002943\t8.75E-04\t1.15E-04\t5.31E-06\n",
    "\n",
    "    5\t0.00011\t    0.000204\t0.000136\t4.04E-05\t5.31E-06\t2.45E-07\n",
    "    \n",
    "    \n",
    "    "
   ]
  },
  {
   "cell_type": "markdown",
   "metadata": {},
   "source": [
    "## Problem Five (Special Distributions)\n",
    "\n",
    "\n",
    "Suppose numbers in the range $[0..1)$ are randomly and independently selected with replacement\n",
    "and rounded to 3 decimal places. Therefore we can assume that all possible combinations of 3 digits after the decimal point are equally likely. \n",
    "\n",
    "For each of these, specify precisely the discrete distribution involved, including all parameters; phrase it as a probability in the form `P(...X....)` and answer the question. \n",
    "\n",
    "(a) What is the probability that the first selection is no more than 0.345?\n",
    "\n",
    "(b) What is the probability that 0.345 occurs at least twice in the first 1000 selections?\n",
    "\n",
    "(c) What is the probability that 0.345 is selected for the first time on the 1000th selection?\n",
    "\n",
    "(d) What is the probability that 0.345 is selected for the fifth time precisely on the 1000th selection?\n",
    "\n",
    "Hint: This uses all 4 of the discrete distributions we  studied in Lecture 11.   "
   ]
  },
  {
   "cell_type": "markdown",
   "metadata": {},
   "source": [
    "**Solution:** \n",
    "\n",
    "    A.)\n",
    "        since rounded to 3 decimal places \n",
    "        \n",
    "        1/1000 is same as 0.001\n",
    "        \n",
    "        so 345/1000 as also same as 0.345\n",
    "        \n",
    "        Thus, the answer is 0.345\n",
    "        \n",
    "    B.)\n",
    "    \n",
    "        P(X => 2) = 1 - P(X = 0) + P(X = 1)\n",
    "        \n",
    "                  = 1 - (1000 choose 0)*(0.001^0)*(0.999^1000) + (1000 choose 1)*(0.001^1)*(0.999^999)\n",
    "                  \n",
    "                  = 1 - (0.3677 + 0.3680)\n",
    "                  \n",
    "                  = 0.2643\n",
    "    \n",
    "    C.)\n",
    "    \n",
    "        P(X = 1000) = ((1 - 0.001)^999) * 0.001 = 0.000368\n",
    "        \n",
    "        ANSWER = 0.000368\n",
    "    \n",
    "    D.)\n",
    "    \n",
    "        P(X = 1000) = (1000 - 1 choose 5 - 1) * (0.001)^5 * (1 - 0.001)^1000-5\n",
    "        \n",
    "                    = (999 choose 4) * (0.001^5) * (0.999^995)\n",
    "        \n",
    "                    = 0.00001524403"
   ]
  },
  {
   "cell_type": "markdown",
   "metadata": {},
   "source": [
    "## Problem Six (Binomial)\n",
    "\n",
    "Answer the following questions, each of which involves an appropriate binomial distribution.  \n",
    "\n",
    "(A) If you roll a die 5 times, what is the probability that on exactly two of these rolls you get either a 5 or a 6?\n",
    "\n",
    "(B) If two fair dice are rolled 10 times, what is the probability of at least one 6 (on either die) in exactly five of these 10 rolls?\n",
    "\n",
    "(C) Suppose that each day the price of a stock moves up 1/8th of a point with probability 1/3 and moves down 1/8th of the point with probability 2/3. If the price fluctuations from day to day are independent and identically distributed, what is the probability that after 6 days the stock has its original price?\n",
    "\n",
    "Hint for (C): you could draw a tree, but it is easier to answer the following question: how many moves up and how many moves down result in no change in the stock price after 3 days?\n",
    " "
   ]
  },
  {
   "cell_type": "markdown",
   "metadata": {},
   "source": [
    "**Solution:** \n",
    "\n",
    "    A.)\n",
    "        2/6 chance of rolling a 5 or 6, so 1/3 chance\n",
    "        \n",
    "        P(X = 2) = 5 C 2 * (1/3)^2 * (2/3)^3\n",
    "        \n",
    "                = 10 * 0.03292181069\n",
    "                \n",
    "                = 0.3292\n",
    "    B.)\n",
    "    \n",
    "        (1, 6) (2, 6) (3, 6) (4, 6) (5, 6) (6, 6) (6,1) (6,2) (6,3) (6,4) (6,5)\n",
    "        \n",
    "        11 possiblities\n",
    "        \n",
    "        Thus,\n",
    "        \n",
    "        P(X = 5) = 10 C 5 * (11/36)^5 * (25/36)^5\n",
    "        \n",
    "                 = 252 * 0.00043016835\n",
    "                 \n",
    "                 = 0.1084\n",
    "    \n",
    "    C.)\n",
    "        \n",
    "        In order for it to have it's orignal price after 6 days, it must go down 3 times and come up 3 times\n",
    "        \n",
    "        Thus,\n",
    "        \n",
    "        6 C 3 * (1/3)^3 * (2/3)^3\n",
    "        \n",
    "        20 * 0.01097\n",
    "        \n",
    "        = 0.2194\n"
   ]
  },
  {
   "cell_type": "markdown",
   "metadata": {},
   "source": [
    "## Problem Seven (Binomial)\n",
    "\n",
    " A restaurant serves 8 fish entrees, 12 beef, and 10 chicken. If customers select from these entrees randomly and independently, and the kitchen has plenty of each entree (so this is \"with replacement\"), what is the probability\n",
    "\n",
    "(A) that at least 4 of the next 10 customers order beef?\n",
    "\n",
    "(B) that between 2 and 6 (inclusive) of the next 20 customers order fish?\n",
    "\n",
    "(C) that of the next 10 customers, at most 1 of the first 5 orders chicken, and at least 2 of the last 5 orders beef. \n",
    "\n",
    "(D) that of the next 5 customers, the first orders chicken, the second orders fish, and of the remaining 3, at least 2 order beef?\n",
    "\n",
    "**NOTE:  For each of these, you must state the exact distribution being used, with all parameters, and give the solution in the form:** \n",
    "\n",
    "     X ~ (exact distribution)\n",
    "     P(...X...) = (formula) = (numeric answer). \n",
    "\n",
    "Hint: For (C) and (D) remember that all customers choose their meal independently. \n",
    "\n"
   ]
  },
  {
   "cell_type": "markdown",
   "metadata": {},
   "source": [
    "**Solution:**\n",
    "\n",
    "    Total 30 entries\n",
    "    8 fish\n",
    "    12 beef\n",
    "    10 chicken\n",
    "    \n",
    "    A.) P(X => 4) = 1 - P(X < 4)\n",
    "                  = 1 - (P = 0) + (P = 1) + (P = 2) + (P = 3)\n",
    "                  \n",
    "                  (P=0) = (10 C 3) * (12/30)^3 * (18/30)^7 = 120 * 0.0017915904 = 0.214990848\n",
    "                  (P=1) = (10 C 2) * (12/30)^2 * (18/30)^8 = 45 * 0.0026873856 = 0.120932352\n",
    "                  (P=2) = (10 C 1) * (12/30)^1 * (18/30)^9 =  10 * 0.0040310784 = 0.040310784\n",
    "                  (p=3) = (10 C 0) * (12/30)^0 * (18/30)^10 = 1 * 0.0060466176 = 0.0060466176\n",
    "                  \n",
    "                  1 - (0.214990848 + 0.120932352 + 0.040310784 + 0.0060466176)\n",
    "                  \n",
    "                  = 0.6177\n",
    "              \n",
    "    B.) P ( 2 <= X <= 6)\n",
    "    \n",
    "        =  P (X <= 6) - P (X <=2)\n",
    "        \n",
    "           P (X <= 6) = (P = 0) + (P = 1) + (P = 2) + (P = 3) + (P = 4) + (P = 5) + (P = 6)\n",
    "        \n",
    "                   = (0.00242456814 + 0.01703750587 + 0.05686843176 + 0.11988480209 + 0.17901717069 + 0.20127335948 + 0.17679416711)\n",
    "                   = 0.7533\n",
    "          \n",
    "          P(X <= 2) = (P = 0) + (P = 1) + (P = 2)\n",
    "          \n",
    "                   = 0.00242456814 + 0.01703750587 + 0.05686843176\n",
    "                   \n",
    "                   = 0.0763\n",
    "             \n",
    "             \n",
    "            P (X <= 6) - P (X <=2) \n",
    "            \n",
    "            = 0.7533 - 0.0763 = 0.677\n",
    "            \n",
    "            ANSWER: 0.677\n",
    "            \n",
    "            \n",
    "            \n",
    "     C.) At most 1, one of the 5 orders chicken:\n",
    "         \n",
    "         P(X <= 1) = P(X = 0) + P(X = 1)\n",
    "                   \n",
    "         P(X = 0) = 5 C 0 * (10/30)^0 * (20/30)^5 = 0.13169\n",
    "         P(X = 1) = 5 C 1 * (10/30)^1 * (20/30)^4 = 0.32922\n",
    "         P(X <= 1) = P(X = 0) + P(X = 1)\n",
    "         \n",
    "                   = 0.13169 + 0.32922 = 0.46091\n",
    "                   \n",
    "         at least 2 of the last 5 orders beef:\n",
    "         \n",
    "         P(X => 2) = 1 - P(X = 0) + P(X = 1)\n",
    "         \n",
    "         P(X = 0) = 5 C 0 * (12/30)^0 * (18/30)^5 = 0.07776\n",
    "         \n",
    "         P(X = 1) = 5 C 1 * (12/30)^1 * (18/30)^4 = 0.2592\n",
    "         \n",
    "         1 - (0.07776 + 0.2592) = 0.66304\n",
    "         \n",
    "         \n",
    "         0.66304 * 0.46091\n",
    "         \n",
    "         = 0.3056\n",
    "         \n",
    "         ANSWER: 0.3056\n",
    "         \n",
    "         \n",
    "      D.) the first orders chicken, the second orders fish, and of the remaining 3, at least 2 order beef\n",
    "      \n",
    "          P(X = 1) * P(X = 1) * P(X => 2)\n",
    "          \n",
    "          = (10/30) * (8/30) * P(X => 2)\n",
    "                   \n",
    "          =  0.333 * 0.266 * 0.352\n",
    "          \n",
    "          = 0.03118\n",
    "          \n"
   ]
  },
  {
   "cell_type": "markdown",
   "metadata": {},
   "source": [
    "## Problem Eight (Binomial)\n",
    "\n",
    "Suppose a professor of probability is tired of reading the depressing news and so he decides that he will quickly scan the first 5 headlines in the New Yorks Times and the first 5 headlines in the Boston Globe and if at most 3 of the articles in each are depressing, he will read the news that day. Further suppose that the probability of a NYTs headline being depressing is 0.6 and for the Globe the probability of a headline being depressing is 0.55. \n",
    "\n",
    "(a) What is the probability that he will read the news the first day he tries this?\n",
    "\n",
    "(b) In order to be \"well-informed\" he needs to read the news at least half the time; what is the probability that he will be well-informed after doing this for a week? \n",
    "\n",
    "Hint: This is another problem where there are two independent parts of the random experiment.\n",
    "You might want to phrase it as three different random variables, all three being binomial.\n",
    " "
   ]
  },
  {
   "attachments": {},
   "cell_type": "markdown",
   "metadata": {},
   "source": [
    "**Solution:**\n",
    "\n",
    "    A.)   P(At most 3 Boston Globe) * P(At most 3 New York Times)\n",
    "        = P(X <= 3) * P(Y <= 3)\n",
    "        \n",
    "       P(X <= 3) = 1 - P( X = 4) + P (X = 5)\n",
    "       \n",
    "                 = 1 - ((5 choose 4) * (0.55)^4 * (0.45)) + ((5 choose 5) * (0.55)^5)\n",
    "                 \n",
    "                 = 1 - (0.2058 + 0.0503)\n",
    "                 \n",
    "                 = 0.7439\n",
    "       \n",
    "       P(Y <= 3) = 1 - P( X = 4) + P (X = 5)\n",
    "       \n",
    "                 = 1 - ((5 choose 4) * (0.6)^4 * (0.4)) + ((5 choose 5) * (0.6)^5)\n",
    "                 \n",
    "                 = 1 - (0.2592 + 0.07776)\n",
    "                 \n",
    "                 = 0.66304\n",
    "                 \n",
    "       0.7439 * 0.66304\n",
    "       \n",
    "       = 0.4932\n",
    "       \n",
    "       ANSWER: 0.4932\n",
    "       \n",
    "       \n",
    "       B.) 7 days in a week / 2 = 3.5 ~ 4\n",
    "       \n",
    "           P(X => 4) = (P = 4) + (P = 5) + (P = 6) + (P = 7)\n",
    "           \n",
    "           (P = 4) = (7 choose 4) * ( 0.4932^4) * (0.5068^3) = 0.2695\n",
    "           (P = 5) = (7 choose 5) * ( 0.4932^5) * (0.5068^2) = 0.1574\n",
    "           (P = 6) = (7 choose 6) * ( 0.4932^6) * (0.5068^1) = 0.05105\n",
    "           (P = 7) = (7 choose 7) * ( 0.4932^7) * (0.5068^0) = 0.00710\n",
    "           \n",
    "           P(X => 4) = 0.2695 + 0.1574 + 0.05105 + 0.00710 = 0.48505\n",
    "           \n",
    "           ANSWER: 0.48505\n",
    "           \n",
    "           \n"
   ]
  },
  {
   "cell_type": "markdown",
   "metadata": {},
   "source": [
    "## Lab Instructions\n",
    "\n",
    "In previous homeworks, we investigated how to generate random values (called \"random variates\" in the literature). In this lab, we will make this more explicit by considering three different ways for simulating a random variable:\n",
    "\n",
    "   > 1. By simulating the original physical experiment;\n",
    "   > 2. By inverting the CDF; and\n",
    "   > 3. By using an explicit formula.\n",
    "\n",
    "In the last two, we will convert a random variate in the range $[0..1)$ created by\n",
    "the `numpy` function `random()` into a random variate from a different distribution.  \n",
    "You may not use any other function from the `numpy` random library for the following problems. \n"
   ]
  },
  {
   "cell_type": "markdown",
   "metadata": {},
   "source": [
    "## Problem Nine: Generating a Binomial Distribution by Simulation\n",
    "\n",
    "For this problem, complete the function stub to simulate the\n",
    "a random variable $Y\\sim B(N,p)$, which describes a situation in which\n",
    "we have a (possibly) unfair coin where\n",
    "the probability of heads is $p$ and we flip this coin $N$ times. \n",
    "\n",
    "We create random variables $X$ and $Y$ to solve this, as shown in lecture. \n",
    "Let $X\\sim \\text{bernoulli}(p)$ and $Y = X_1+X_2+\\cdots + X_N$. \n",
    "\n",
    "Demonstrate your solution by generating $10^5$ random variates for the parameters shown and displaying them using <code>show_distribution(...)</code>.\n",
    "\n",
    "Note: You MUST use `random()` to implement this, NOT `randint(2)`. Think about using a list comprehension and `sum` to implement the binomial. "
   ]
  },
  {
   "cell_type": "code",
   "execution_count": 18,
   "metadata": {},
   "outputs": [
    {
     "data": {
      "image/png": "[encoded data removed]",
      "text/plain": [
       "<Figure size 432x288 with 1 Axes>"
      ]
     },
     "metadata": {
      "needs_background": "light"
     },
     "output_type": "display_data"
    }
   ],
   "source": [
    "# First, create a function which simulates the coin, where\n",
    "# you return 1 with probability p and 0 with probability 1-p. \n",
    "\n",
    "num_trials = 10**5\n",
    "\n",
    "N9 = 10\n",
    "p9 = 0.25\n",
    "\n",
    "seed(0)\n",
    "\n",
    "\n",
    "# Simulate the random variable X ~ bernoulli(0.25)\n",
    "\n",
    "def bernoulli(p):\n",
    "    if random () < p :\n",
    "        return 1\n",
    "    else:\n",
    "        return 0              # your code here, you already wrote this in previous hws!\n",
    "\n",
    "def X():                          \n",
    "    return bernoulli(p9)                      # your code here, just call the previous with the appropriate parameter\n",
    " \n",
    "# simulate the random variable Y ~ B(10,0.25)\n",
    "\n",
    "def B(N,p):\n",
    "    return sum( [ X() for k in range(N9)])                     # your code here\n",
    "\n",
    "def Y():\n",
    "    return B(N9, p9)                      # your code here, just call the previous with the appropriate parameter\n",
    "\n",
    "\n",
    "# Now show the result of 10^5 trials with show_distribution\n",
    "show_distribution ( [ Y() for k in range(num_trials)])"
   ]
  },
  {
   "cell_type": "markdown",
   "metadata": {},
   "source": [
    "## Problem Ten: Generating a Distribution by Inverting the CDF\n",
    "\n",
    "In this problem we will investigate how to implement a random variable given by an arbitary probability distribution function. First, however, you need to know about the CDF, the Cumulative Distribution Function, which is a simple but crucially important idea, which you can understand by looking at the last slide on Lecture 11 or <a href=\"https://www.probabilitycourse.com/chapter3/3_2_1_cdf.php\">here</a>. Please look at this before continuing with the lab. \n",
    "\n",
    "We will return to an idea (sometimes called the \"pinwheel method\") we used in a previous homework: we can essentially \"invert\" the CDF to obtain a function from a random variate in the range $[0..1)$ into  a random variable from the given distribution. \n"
   ]
  },
  {
   "attachments": {
    "Screen%20Shot%202021-03-12%20at%2011.00.35%20AM.png": {
     "image/png": "[encoded data removed]"
    }
   },
   "cell_type": "markdown",
   "metadata": {},
   "source": [
    "### TODO, Part (a): Calculating the Cumulative Distribution Function\n",
    "\n",
    "Complete the following to calculate $F_X$ for the CDF of the probability distribution $f_X$, and then \n",
    "demonstrate your code by calculating and displaying the CDF for the random variable of $X$ \n",
    "from the Example Problem at the top of this notebook.  \n",
    "\n",
    "You must print out the CDF and then display it using `draw_distribution`. You should get:\n",
    "\n",
    "![Screen%20Shot%202021-03-12%20at%2011.00.35%20AM.png](attachment:Screen%20Shot%202021-03-12%20at%2011.00.35%20AM.png)\n"
   ]
  },
  {
   "cell_type": "code",
   "execution_count": 22,
   "metadata": {},
   "outputs": [
    {
     "name": "stdout",
     "output_type": "stream",
     "text": [
      "[0.25, 0.75, 1.0]\n"
     ]
    },
    {
     "data": {
      "image/png": "[encoded data removed]",
      "text/plain": [
       "<Figure size 432x288 with 1 Axes>"
      ]
     },
     "metadata": {
      "needs_background": "light"
     },
     "output_type": "display_data"
    }
   ],
   "source": [
    "def CDF(fx):\n",
    "    A = [0 for i in range (len(fx))]   \n",
    "    total = 0\n",
    "    for i in range(len(fx)):\n",
    "        total += fx[i]\n",
    "        A[i] = total\n",
    " \n",
    "    A[-1] = 1.0   \n",
    "    return A\n",
    "\n",
    "\n",
    "Fx10a = CDF(fx0)\n",
    "print(Fx10a)\n",
    "draw_distribution(Rx0, Fx10a)"
   ]
  },
  {
   "cell_type": "markdown",
   "metadata": {},
   "source": [
    "### Part (b): Generating random variates by inverting the CDF\n",
    "\n",
    "The basic idea here is that the CDF is a function from outcomes to probabilities:\n",
    "\n",
    "$$F_X\\,:\\,R_X\\rightarrow [0..1)$$\n",
    "\n",
    "if we invert this function, we get\n",
    "a function from the interval $[0..1)$ into the outcomes:\n",
    "\n",
    "$$F^{-1}_X\\, : \\,[0..1)\\rightarrow R_X$$ \n",
    "\n",
    "We used the same \"pinwheel\" approach in a previous homework: just generate a random value $a$ in the range $[0..1)$ and look for the first bin which is greater than $a$; output the corresponding outcome.\n",
    "\n",
    "The next cell contains a test of the CDF function, and demonstration of this idea: uncomment the code and run the cell a few times to see where the random value ends up: the first bin that the red line intersects going left to right indicates the outcome that is output. Be sure you understand how this process works, and what number would be output, for each test. "
   ]
  },
  {
   "cell_type": "code",
   "execution_count": 6,
   "metadata": {},
   "outputs": [
    {
     "name": "stdout",
     "output_type": "stream",
     "text": [
      "\n"
     ]
    }
   ],
   "source": [
    "'''\n",
    "\n",
    "Rx10b = [0,1,2,3]\n",
    "fx10b = [1/8,3/8,3/8,1/8]\n",
    "Fx10b = CDF(fx10b)\n",
    "plt.figure(figsize=(8, 4))\n",
    "plt.bar(Rx10b,fx10b,width=1.0,edgecolor='black')\n",
    "plt.ylabel(\"Probability\")\n",
    "plt.xlabel(\"Outcomes\")\n",
    "if (Rx10b[-1] - Rx10b[0] < 30):\n",
    "    ticks = range(Rx10b[0],Rx10b[-1]+1)\n",
    "    plt.xticks(ticks, ticks)  \n",
    "plt.title(\"Probability Distribution Function\")\n",
    "plt.show()\n",
    "\n",
    "\n",
    "plt.figure(figsize=(8, 4))\n",
    "plt.bar(Rx10b,Fx10b,width=1.0,edgecolor='black')\n",
    "r = random()\n",
    "plt.plot([-0.5,3.5],[r,r],color=\"red\")\n",
    "plt.ylabel(\"Probability\")\n",
    "plt.xlabel(\"Outcomes\") \n",
    "plt.title(\"Inverting the CDF: r = \" + str(round4(r)))\n",
    "plt.show()\n",
    "\n",
    "'''\n",
    "print()"
   ]
  },
  {
   "cell_type": "markdown",
   "metadata": {
    "scrolled": false
   },
   "source": [
    "### TODO for 10 (b):\n",
    "\n",
    "Complete the following code template to generate random variates for\n",
    "a given random variable (represented by Rx and fx), using the code from Part (a). \n",
    "\n",
    "Demonstrate your code by generating $10^5$ variates from the random variable $X$ from Problem Two and display it using <code>show_distribution(...)</code>. \n",
    "\n",
    "Hint: Compare with the theoretical distribution from Problem Two.  They should be very close! "
   ]
  },
  {
   "cell_type": "code",
   "execution_count": 34,
   "metadata": {},
   "outputs": [
    {
     "data": {
      "image/png": "[encoded data removed]",
      "text/plain": [
       "<Figure size 432x288 with 1 Axes>"
      ]
     },
     "metadata": {
      "needs_background": "light"
     },
     "output_type": "display_data"
    }
   ],
   "source": [
    "seed(0)\n",
    "\n",
    "def bernoulli(p):\n",
    "    if random () > p :\n",
    "        return True\n",
    "    else:\n",
    "        return False\n",
    "    \n",
    "def rvs(Rx,fx):             \n",
    "    Fx10A = CDF(fx)\n",
    "    i = 0\n",
    "    for x in (Fx10A):\n",
    "        if bernoulli(x):\n",
    "            i += 1\n",
    "        else:\n",
    "            break\n",
    "\n",
    "    return i\n",
    "\n",
    "\n",
    "Rx10B = [i for i in range(6)]            \n",
    "Px10B = [ f2(k) for k in Rx10B  ] \n",
    "\n",
    "\n",
    "Outcomes = [ rvs(Rx10B,Px10B) for i in range(10**5) ]\n",
    "show_distribution(Outcomes)            \n"
   ]
  },
  {
   "cell_type": "markdown",
   "metadata": {},
   "source": [
    "## Problem Eleven:  Creating Random Variates for Standard Distributions by Inverting the CDF\n",
    "\n",
    "Now we will apply the technique from the last problem to generate random variates for two common distributions, which we studied this week:\n",
    "\n",
    "   >  Binomial  B(N,p) \n",
    "   \n",
    "   >  Geometric  G(p):     Recall that this is the number of flips you make until the first head appears with a coin whose probability of heads is p. "
   ]
  },
  {
   "cell_type": "markdown",
   "metadata": {},
   "source": [
    "### Part (a) Binomial Variates\n",
    " \n",
    "Display the result of generating $10^5$ random variates with `rvs` just written in Part A from the Binomial\n",
    "Distribution with $N=8$ and $p=0.8$ using <code>show_distribution</code>.  \n",
    "\n",
    "Hint:  You may look at the Distributions Notebook on the class web site to see the\n",
    "formula for the PDF for the Binomial, or look at the lecture notes....\n"
   ]
  },
  {
   "cell_type": "code",
   "execution_count": 45,
   "metadata": {},
   "outputs": [
    {
     "data": {
      "image/png": "[encoded data removed]",
      "text/plain": [
       "<Figure size 432x288 with 1 Axes>"
      ]
     },
     "metadata": {
      "needs_background": "light"
     },
     "output_type": "display_data"
    }
   ],
   "source": [
    "# Solution\n",
    "\n",
    "seed(0)\n",
    "\n",
    "N11a = 8\n",
    "p11a = 0.8\n",
    "\n",
    "def bin(N,K,P):\n",
    "    return  (C(N,K)) * (P**K) * ((1-P)**(N-K))\n",
    "\n",
    "Rx11a = [i for i in range(N11a) ]            \n",
    "Px11a = [ bin(N11a,j, p11a) for j in range(N11a)] \n",
    "\n",
    "num_trials = 10**5        \n",
    "\n",
    "seed(0)\n",
    "\n",
    "Outcomes = [ rvs(Rx11a ,Px11a) for i in range(num_trials)]\n",
    "\n",
    "show_distribution (Outcomes)\n"
   ]
  },
  {
   "cell_type": "markdown",
   "metadata": {},
   "source": [
    "### Part (b) Geometric Variates \n",
    "\n",
    "Although $R_x$ is infinite, we will only approximate this distribution by considering the first 20 outcomes. \n",
    "This will potentially create an error, since of course it is possible for the value produce to be larger than 20, however, the probability is so small we will not worry about it. Note that our code for the CDF did not\n",
    "calculate the last bin, but simply set it to 1.0, which will make sure our generation of random variates does not crash. \n",
    "\n",
    "Display the experimental distribution for the Geometric Distribution with $p=0.6$, using <code>show_distribution</code> from the beginning of the notebook, for $10^5$ trials and the given N and p.  \n",
    "\n",
    "Hint:  You may look at the Distributions Notebook on the class web site to see the\n",
    "formula for the PDF for the Geometric, or wait until lecture....\n"
   ]
  },
  {
   "cell_type": "code",
   "execution_count": 51,
   "metadata": {
    "scrolled": false
   },
   "outputs": [
    {
     "data": {
      "image/png": "[encoded data removed]",
      "text/plain": [
       "<Figure size 432x288 with 1 Axes>"
      ]
     },
     "metadata": {
      "needs_background": "light"
     },
     "output_type": "display_data"
    }
   ],
   "source": [
    "# Solution\n",
    "\n",
    "limit = 20\n",
    "p11b = 0.6 \n",
    "\n",
    "def geo(k,p):\n",
    "    return ( (1-p)**(k-1) )*p\n",
    "\n",
    "Rx11B = [ i for i in range(1, limit) ]            \n",
    "Px11B = [ geo(j, p11b) for j in range(1, limit)] \n",
    "\n",
    "num_trials = 10**5             \n",
    "Outcomes = [ rvs(Rx11B,Px11B) for k in range(num_trials)]\n",
    "\n",
    "show_distribution (Outcomes)"
   ]
  },
  {
   "cell_type": "markdown",
   "metadata": {},
   "source": [
    "##  Problem Twelve: Generating the Geometric Distribution by Explicit Formula\n",
    "\n",
    "Now we will explore using an explicit function for the inverse of the CDF. This is not possible for all distributions, but when it is, it the simplest (and most efficient) method.  \n",
    "\n",
    "The following formula is from <a href=\"https://en.wikipedia.org/wiki/Geometric_distribution\">Wikipedia</a>: if U is a random variable uniformly distributed in the range [0..1), then\n",
    "\n",
    "$$    1 + \\lfloor \\,\\ln{( U )} \\, \\,/ \\, \\ln{( 1 - p )}  \\,\\rfloor$$            \n",
    "          \n",
    "is an integer which is distributed according to the Geometric Distribution with probability p.\n",
    "\n",
    "Note: $\\ln$ is log to the base $e$ (just <code>log(...)</code> in Python). \n",
    "\n",
    "\n",
    "For this problem, simply complete the following function stub and demonstrate it as in the previous problems. \n"
   ]
  },
  {
   "cell_type": "code",
   "execution_count": 48,
   "metadata": {
    "scrolled": false
   },
   "outputs": [
    {
     "data": {
      "image/png": "[encoded data removed]",
      "text/plain": [
       "<Figure size 432x288 with 1 Axes>"
      ]
     },
     "metadata": {
      "needs_background": "light"
     },
     "output_type": "display_data"
    }
   ],
   "source": [
    "def geom_rvs(p):\n",
    "    x = random()\n",
    "    return 1 + floor( (log(x)) / (log(1-p)) )            \n",
    "\n",
    "          \n",
    "p12 = 0.4 \n",
    "          \n",
    "num_trials = 10**5\n",
    "\n",
    "seed(0)\n",
    "\n",
    "\n",
    "Outcomes = [ geom_rvs(p12) for k in range(num_trials)]\n",
    "\n",
    "show_distribution (Outcomes)"
   ]
  },
  {
   "cell_type": "code",
   "execution_count": null,
   "metadata": {},
   "outputs": [],
   "source": []
  }
 ],
 "metadata": {
  "kernelspec": {
   "display_name": "Python 3",
   "language": "python",
   "name": "python3"
  },
  "language_info": {
   "codemirror_mode": {
    "name": "ipython",
    "version": 3
   },
   "file_extension": ".py",
   "mimetype": "text/x-python",
   "name": "python",
   "nbconvert_exporter": "python",
   "pygments_lexer": "ipython3",
   "version": "3.8.3"
  }
 },
 "nbformat": 4,
 "nbformat_minor": 2
}
